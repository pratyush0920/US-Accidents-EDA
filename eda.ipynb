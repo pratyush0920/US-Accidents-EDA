{
  "nbformat": 4,
  "nbformat_minor": 0,
  "metadata": {
    "colab": {
      "name": "eda",
      "provenance": [],
      "toc_visible": true,
      "authorship_tag": "ABX9TyO/2CQu48GTkIh8Iyo5Zz7i",
      "include_colab_link": true
    },
    "kernelspec": {
      "name": "python3",
      "display_name": "Python 3"
    },
    "language_info": {
      "name": "python"
    }
  },
  "cells": [
    {
      "cell_type": "markdown",
      "metadata": {
        "id": "view-in-github",
        "colab_type": "text"
      },
      "source": [
        "<a href=\"https://colab.research.google.com/github/pratyush0920/US-Accidents-EDA/blob/main/eda.ipynb\" target=\"_parent\"><img src=\"https://colab.research.google.com/assets/colab-badge.svg\" alt=\"Open In Colab\"/></a>"
      ]
    },
    {
      "cell_type": "markdown",
      "metadata": {
        "id": "179YgGtsZG2L"
      },
      "source": [
        "## US Accidents Exploratory Data Analysis\n",
        "- Source of Dataset: https://www.kaggle.com/sobhanmoosavi/us-accidents\n",
        "- Data for New York missing"
      ]
    },
    {
      "cell_type": "code",
      "metadata": {
        "id": "ttkNh8pBVnYk"
      },
      "source": [
        "pip install opendatasets --upgrade --quiet"
      ],
      "execution_count": null,
      "outputs": []
    },
    {
      "cell_type": "code",
      "metadata": {
        "id": "Szjya3-2woD4"
      },
      "source": [
        "# {\"username\":\"paretapratyush\",\"key\":\"557c3d94326b0ba24014986154acbeef\"}"
      ],
      "execution_count": null,
      "outputs": []
    },
    {
      "cell_type": "code",
      "metadata": {
        "colab": {
          "base_uri": "https://localhost:8080/"
        },
        "id": "1fnobPeFZD8e",
        "outputId": "8d5fa2c8-e417-44eb-c48b-d4cf8540ab25"
      },
      "source": [
        "import opendatasets as od\n",
        "\n",
        "download_url = 'https://www.kaggle.com/sobhanmoosavi/us-accidents'\n",
        "\n",
        "od.download(download_url)"
      ],
      "execution_count": null,
      "outputs": [
        {
          "output_type": "stream",
          "text": [
            "Please provide your Kaggle credentials to download this dataset. Learn more: http://bit.ly/kaggle-creds\n",
            "Your Kaggle username: paretapratyush\n",
            "Your Kaggle Key: ··········\n"
          ],
          "name": "stdout"
        },
        {
          "output_type": "stream",
          "text": [
            "  3%|▎         | 10.0M/290M [00:00<00:02, 103MB/s]"
          ],
          "name": "stderr"
        },
        {
          "output_type": "stream",
          "text": [
            "Downloading us-accidents.zip to ./us-accidents\n"
          ],
          "name": "stdout"
        },
        {
          "output_type": "stream",
          "text": [
            "100%|██████████| 290M/290M [00:02<00:00, 119MB/s]\n"
          ],
          "name": "stderr"
        },
        {
          "output_type": "stream",
          "text": [
            "\n"
          ],
          "name": "stdout"
        }
      ]
    },
    {
      "cell_type": "code",
      "metadata": {
        "id": "kPh6SnIDZ-jO"
      },
      "source": [
        "file = '/content/us-accidents/US_Accidents_Dec20_Updated.csv'"
      ],
      "execution_count": null,
      "outputs": []
    },
    {
      "cell_type": "markdown",
      "metadata": {
        "id": "L7U6hntRcBYI"
      },
      "source": [
        "## Data Preperation & Cleaning\n",
        "\n",
        "- load the file & look for info about the dataset\n",
        "- fix missing or incorrect values"
      ]
    },
    {
      "cell_type": "code",
      "metadata": {
        "id": "BZQOuRv7b432"
      },
      "source": [
        "import pandas as pd\n",
        "\n",
        "df = pd.read_csv(file)"
      ],
      "execution_count": null,
      "outputs": []
    },
    {
      "cell_type": "code",
      "metadata": {
        "colab": {
          "base_uri": "https://localhost:8080/",
          "height": 926
        },
        "id": "wEGS-6yv0Xvo",
        "outputId": "b59f2f3e-7296-4b8d-8bdf-6e60c6893535"
      },
      "source": [
        "df"
      ],
      "execution_count": null,
      "outputs": [
        {
          "output_type": "execute_result",
          "data": {
            "text/html": [
              "<div>\n",
              "<style scoped>\n",
              "    .dataframe tbody tr th:only-of-type {\n",
              "        vertical-align: middle;\n",
              "    }\n",
              "\n",
              "    .dataframe tbody tr th {\n",
              "        vertical-align: top;\n",
              "    }\n",
              "\n",
              "    .dataframe thead th {\n",
              "        text-align: right;\n",
              "    }\n",
              "</style>\n",
              "<table border=\"1\" class=\"dataframe\">\n",
              "  <thead>\n",
              "    <tr style=\"text-align: right;\">\n",
              "      <th></th>\n",
              "      <th>ID</th>\n",
              "      <th>Severity</th>\n",
              "      <th>Start_Time</th>\n",
              "      <th>End_Time</th>\n",
              "      <th>Start_Lat</th>\n",
              "      <th>Start_Lng</th>\n",
              "      <th>End_Lat</th>\n",
              "      <th>End_Lng</th>\n",
              "      <th>Distance(mi)</th>\n",
              "      <th>Description</th>\n",
              "      <th>Number</th>\n",
              "      <th>Street</th>\n",
              "      <th>Side</th>\n",
              "      <th>City</th>\n",
              "      <th>County</th>\n",
              "      <th>State</th>\n",
              "      <th>Zipcode</th>\n",
              "      <th>Country</th>\n",
              "      <th>Timezone</th>\n",
              "      <th>Airport_Code</th>\n",
              "      <th>Weather_Timestamp</th>\n",
              "      <th>Temperature(F)</th>\n",
              "      <th>Wind_Chill(F)</th>\n",
              "      <th>Humidity(%)</th>\n",
              "      <th>Pressure(in)</th>\n",
              "      <th>Visibility(mi)</th>\n",
              "      <th>Wind_Direction</th>\n",
              "      <th>Wind_Speed(mph)</th>\n",
              "      <th>Precipitation(in)</th>\n",
              "      <th>Weather_Condition</th>\n",
              "      <th>Amenity</th>\n",
              "      <th>Bump</th>\n",
              "      <th>Crossing</th>\n",
              "      <th>Give_Way</th>\n",
              "      <th>Junction</th>\n",
              "      <th>No_Exit</th>\n",
              "      <th>Railway</th>\n",
              "      <th>Roundabout</th>\n",
              "      <th>Station</th>\n",
              "      <th>Stop</th>\n",
              "      <th>Traffic_Calming</th>\n",
              "      <th>Traffic_Signal</th>\n",
              "      <th>Turning_Loop</th>\n",
              "      <th>Sunrise_Sunset</th>\n",
              "      <th>Civil_Twilight</th>\n",
              "      <th>Nautical_Twilight</th>\n",
              "      <th>Astronomical_Twilight</th>\n",
              "    </tr>\n",
              "  </thead>\n",
              "  <tbody>\n",
              "    <tr>\n",
              "      <th>0</th>\n",
              "      <td>A-1</td>\n",
              "      <td>2</td>\n",
              "      <td>2019-05-21 08:29:55</td>\n",
              "      <td>2019-05-21 09:29:40</td>\n",
              "      <td>34.808868</td>\n",
              "      <td>-82.269157</td>\n",
              "      <td>34.808868</td>\n",
              "      <td>-82.269157</td>\n",
              "      <td>0.000</td>\n",
              "      <td>Accident on Tanner Rd at Pennbrooke Ln.</td>\n",
              "      <td>439.0</td>\n",
              "      <td>Tanner Rd</td>\n",
              "      <td>R</td>\n",
              "      <td>Greenville</td>\n",
              "      <td>Greenville</td>\n",
              "      <td>SC</td>\n",
              "      <td>29607-6027</td>\n",
              "      <td>US</td>\n",
              "      <td>US/Eastern</td>\n",
              "      <td>KGMU</td>\n",
              "      <td>2019-05-21 08:53:00</td>\n",
              "      <td>76.0</td>\n",
              "      <td>76.0</td>\n",
              "      <td>52.0</td>\n",
              "      <td>28.91</td>\n",
              "      <td>10.0</td>\n",
              "      <td>N</td>\n",
              "      <td>7.0</td>\n",
              "      <td>0.0</td>\n",
              "      <td>Fair</td>\n",
              "      <td>False</td>\n",
              "      <td>False</td>\n",
              "      <td>False</td>\n",
              "      <td>False</td>\n",
              "      <td>False</td>\n",
              "      <td>False</td>\n",
              "      <td>False</td>\n",
              "      <td>False</td>\n",
              "      <td>False</td>\n",
              "      <td>False</td>\n",
              "      <td>False</td>\n",
              "      <td>False</td>\n",
              "      <td>False</td>\n",
              "      <td>Day</td>\n",
              "      <td>Day</td>\n",
              "      <td>Day</td>\n",
              "      <td>Day</td>\n",
              "    </tr>\n",
              "    <tr>\n",
              "      <th>1</th>\n",
              "      <td>A-2</td>\n",
              "      <td>2</td>\n",
              "      <td>2019-10-07 17:43:09</td>\n",
              "      <td>2019-10-07 19:42:50</td>\n",
              "      <td>35.090080</td>\n",
              "      <td>-80.745560</td>\n",
              "      <td>35.090080</td>\n",
              "      <td>-80.745560</td>\n",
              "      <td>0.000</td>\n",
              "      <td>Accident on Houston Branch Rd at Providence Br...</td>\n",
              "      <td>3299.0</td>\n",
              "      <td>Providence Branch Ln</td>\n",
              "      <td>R</td>\n",
              "      <td>Charlotte</td>\n",
              "      <td>Mecklenburg</td>\n",
              "      <td>NC</td>\n",
              "      <td>28270-8560</td>\n",
              "      <td>US</td>\n",
              "      <td>US/Eastern</td>\n",
              "      <td>KEQY</td>\n",
              "      <td>2019-10-07 17:53:00</td>\n",
              "      <td>76.0</td>\n",
              "      <td>76.0</td>\n",
              "      <td>62.0</td>\n",
              "      <td>29.30</td>\n",
              "      <td>10.0</td>\n",
              "      <td>VAR</td>\n",
              "      <td>3.0</td>\n",
              "      <td>0.0</td>\n",
              "      <td>Cloudy</td>\n",
              "      <td>False</td>\n",
              "      <td>False</td>\n",
              "      <td>False</td>\n",
              "      <td>False</td>\n",
              "      <td>False</td>\n",
              "      <td>False</td>\n",
              "      <td>False</td>\n",
              "      <td>False</td>\n",
              "      <td>False</td>\n",
              "      <td>False</td>\n",
              "      <td>False</td>\n",
              "      <td>False</td>\n",
              "      <td>False</td>\n",
              "      <td>Day</td>\n",
              "      <td>Day</td>\n",
              "      <td>Day</td>\n",
              "      <td>Day</td>\n",
              "    </tr>\n",
              "    <tr>\n",
              "      <th>2</th>\n",
              "      <td>A-3</td>\n",
              "      <td>2</td>\n",
              "      <td>2020-12-13 21:53:00</td>\n",
              "      <td>2020-12-13 22:44:00</td>\n",
              "      <td>37.145730</td>\n",
              "      <td>-121.985052</td>\n",
              "      <td>37.165850</td>\n",
              "      <td>-121.988062</td>\n",
              "      <td>1.400</td>\n",
              "      <td>Stationary traffic on CA-17 from Summit Rd (CA...</td>\n",
              "      <td>NaN</td>\n",
              "      <td>Santa Cruz Hwy</td>\n",
              "      <td>R</td>\n",
              "      <td>Los Gatos</td>\n",
              "      <td>Santa Clara</td>\n",
              "      <td>CA</td>\n",
              "      <td>95033</td>\n",
              "      <td>US</td>\n",
              "      <td>US/Pacific</td>\n",
              "      <td>KSJC</td>\n",
              "      <td>2020-12-13 21:53:00</td>\n",
              "      <td>51.0</td>\n",
              "      <td>51.0</td>\n",
              "      <td>80.0</td>\n",
              "      <td>30.17</td>\n",
              "      <td>10.0</td>\n",
              "      <td>W</td>\n",
              "      <td>6.0</td>\n",
              "      <td>0.0</td>\n",
              "      <td>Fair</td>\n",
              "      <td>False</td>\n",
              "      <td>False</td>\n",
              "      <td>False</td>\n",
              "      <td>False</td>\n",
              "      <td>False</td>\n",
              "      <td>False</td>\n",
              "      <td>False</td>\n",
              "      <td>False</td>\n",
              "      <td>False</td>\n",
              "      <td>False</td>\n",
              "      <td>False</td>\n",
              "      <td>False</td>\n",
              "      <td>False</td>\n",
              "      <td>Night</td>\n",
              "      <td>Night</td>\n",
              "      <td>Night</td>\n",
              "      <td>Night</td>\n",
              "    </tr>\n",
              "    <tr>\n",
              "      <th>3</th>\n",
              "      <td>A-4</td>\n",
              "      <td>2</td>\n",
              "      <td>2018-04-17 16:51:23</td>\n",
              "      <td>2018-04-17 17:50:46</td>\n",
              "      <td>39.110390</td>\n",
              "      <td>-119.773781</td>\n",
              "      <td>39.110390</td>\n",
              "      <td>-119.773781</td>\n",
              "      <td>0.000</td>\n",
              "      <td>Accident on US-395 Southbound at Topsy Ln.</td>\n",
              "      <td>NaN</td>\n",
              "      <td>US Highway 395 S</td>\n",
              "      <td>R</td>\n",
              "      <td>Carson City</td>\n",
              "      <td>Douglas</td>\n",
              "      <td>NV</td>\n",
              "      <td>89705</td>\n",
              "      <td>US</td>\n",
              "      <td>US/Pacific</td>\n",
              "      <td>KCXP</td>\n",
              "      <td>2018-04-17 16:55:00</td>\n",
              "      <td>53.6</td>\n",
              "      <td>NaN</td>\n",
              "      <td>16.0</td>\n",
              "      <td>30.16</td>\n",
              "      <td>10.0</td>\n",
              "      <td>SSW</td>\n",
              "      <td>4.6</td>\n",
              "      <td>NaN</td>\n",
              "      <td>Clear</td>\n",
              "      <td>False</td>\n",
              "      <td>False</td>\n",
              "      <td>False</td>\n",
              "      <td>False</td>\n",
              "      <td>False</td>\n",
              "      <td>False</td>\n",
              "      <td>False</td>\n",
              "      <td>False</td>\n",
              "      <td>False</td>\n",
              "      <td>False</td>\n",
              "      <td>False</td>\n",
              "      <td>True</td>\n",
              "      <td>False</td>\n",
              "      <td>Day</td>\n",
              "      <td>Day</td>\n",
              "      <td>Day</td>\n",
              "      <td>Day</td>\n",
              "    </tr>\n",
              "    <tr>\n",
              "      <th>4</th>\n",
              "      <td>A-5</td>\n",
              "      <td>3</td>\n",
              "      <td>2016-08-31 17:40:49</td>\n",
              "      <td>2016-08-31 18:10:49</td>\n",
              "      <td>26.102942</td>\n",
              "      <td>-80.265091</td>\n",
              "      <td>26.102942</td>\n",
              "      <td>-80.265091</td>\n",
              "      <td>0.000</td>\n",
              "      <td>Accident on I-595 Westbound at Exit 4 / Pine I...</td>\n",
              "      <td>NaN</td>\n",
              "      <td>I-595 W</td>\n",
              "      <td>R</td>\n",
              "      <td>Fort Lauderdale</td>\n",
              "      <td>Broward</td>\n",
              "      <td>FL</td>\n",
              "      <td>33324</td>\n",
              "      <td>US</td>\n",
              "      <td>US/Eastern</td>\n",
              "      <td>KHWO</td>\n",
              "      <td>2016-08-31 17:53:00</td>\n",
              "      <td>84.2</td>\n",
              "      <td>NaN</td>\n",
              "      <td>84.0</td>\n",
              "      <td>29.92</td>\n",
              "      <td>10.0</td>\n",
              "      <td>SSE</td>\n",
              "      <td>13.8</td>\n",
              "      <td>NaN</td>\n",
              "      <td>Overcast</td>\n",
              "      <td>False</td>\n",
              "      <td>False</td>\n",
              "      <td>False</td>\n",
              "      <td>False</td>\n",
              "      <td>True</td>\n",
              "      <td>False</td>\n",
              "      <td>False</td>\n",
              "      <td>False</td>\n",
              "      <td>False</td>\n",
              "      <td>False</td>\n",
              "      <td>False</td>\n",
              "      <td>True</td>\n",
              "      <td>False</td>\n",
              "      <td>Day</td>\n",
              "      <td>Day</td>\n",
              "      <td>Day</td>\n",
              "      <td>Day</td>\n",
              "    </tr>\n",
              "    <tr>\n",
              "      <th>...</th>\n",
              "      <td>...</td>\n",
              "      <td>...</td>\n",
              "      <td>...</td>\n",
              "      <td>...</td>\n",
              "      <td>...</td>\n",
              "      <td>...</td>\n",
              "      <td>...</td>\n",
              "      <td>...</td>\n",
              "      <td>...</td>\n",
              "      <td>...</td>\n",
              "      <td>...</td>\n",
              "      <td>...</td>\n",
              "      <td>...</td>\n",
              "      <td>...</td>\n",
              "      <td>...</td>\n",
              "      <td>...</td>\n",
              "      <td>...</td>\n",
              "      <td>...</td>\n",
              "      <td>...</td>\n",
              "      <td>...</td>\n",
              "      <td>...</td>\n",
              "      <td>...</td>\n",
              "      <td>...</td>\n",
              "      <td>...</td>\n",
              "      <td>...</td>\n",
              "      <td>...</td>\n",
              "      <td>...</td>\n",
              "      <td>...</td>\n",
              "      <td>...</td>\n",
              "      <td>...</td>\n",
              "      <td>...</td>\n",
              "      <td>...</td>\n",
              "      <td>...</td>\n",
              "      <td>...</td>\n",
              "      <td>...</td>\n",
              "      <td>...</td>\n",
              "      <td>...</td>\n",
              "      <td>...</td>\n",
              "      <td>...</td>\n",
              "      <td>...</td>\n",
              "      <td>...</td>\n",
              "      <td>...</td>\n",
              "      <td>...</td>\n",
              "      <td>...</td>\n",
              "      <td>...</td>\n",
              "      <td>...</td>\n",
              "      <td>...</td>\n",
              "    </tr>\n",
              "    <tr>\n",
              "      <th>2906605</th>\n",
              "      <td>A-2906606</td>\n",
              "      <td>2</td>\n",
              "      <td>2018-06-28 08:49:01</td>\n",
              "      <td>2018-06-28 09:18:51</td>\n",
              "      <td>29.813824</td>\n",
              "      <td>-95.399437</td>\n",
              "      <td>29.813824</td>\n",
              "      <td>-95.399437</td>\n",
              "      <td>0.000</td>\n",
              "      <td>Accident on 30th St at Yale St.</td>\n",
              "      <td>3001.0</td>\n",
              "      <td>Yale St</td>\n",
              "      <td>L</td>\n",
              "      <td>Houston</td>\n",
              "      <td>Harris</td>\n",
              "      <td>TX</td>\n",
              "      <td>77018-8433</td>\n",
              "      <td>US</td>\n",
              "      <td>US/Central</td>\n",
              "      <td>KMCJ</td>\n",
              "      <td>2018-06-28 08:35:00</td>\n",
              "      <td>84.2</td>\n",
              "      <td>NaN</td>\n",
              "      <td>70.0</td>\n",
              "      <td>30.02</td>\n",
              "      <td>9.0</td>\n",
              "      <td>Variable</td>\n",
              "      <td>5.8</td>\n",
              "      <td>NaN</td>\n",
              "      <td>Clear</td>\n",
              "      <td>False</td>\n",
              "      <td>False</td>\n",
              "      <td>False</td>\n",
              "      <td>False</td>\n",
              "      <td>False</td>\n",
              "      <td>False</td>\n",
              "      <td>False</td>\n",
              "      <td>False</td>\n",
              "      <td>False</td>\n",
              "      <td>True</td>\n",
              "      <td>False</td>\n",
              "      <td>False</td>\n",
              "      <td>False</td>\n",
              "      <td>Day</td>\n",
              "      <td>Day</td>\n",
              "      <td>Day</td>\n",
              "      <td>Day</td>\n",
              "    </tr>\n",
              "    <tr>\n",
              "      <th>2906606</th>\n",
              "      <td>A-2906607</td>\n",
              "      <td>2</td>\n",
              "      <td>2019-01-10 02:01:01</td>\n",
              "      <td>2019-01-10 02:30:32</td>\n",
              "      <td>34.068890</td>\n",
              "      <td>-117.342010</td>\n",
              "      <td>34.068890</td>\n",
              "      <td>-117.342010</td>\n",
              "      <td>0.000</td>\n",
              "      <td>At Valley Blvd - Accident.</td>\n",
              "      <td>NaN</td>\n",
              "      <td>Cypress Ave</td>\n",
              "      <td>R</td>\n",
              "      <td>Colton</td>\n",
              "      <td>San Bernardino</td>\n",
              "      <td>CA</td>\n",
              "      <td>92324</td>\n",
              "      <td>US</td>\n",
              "      <td>US/Pacific</td>\n",
              "      <td>KSBD</td>\n",
              "      <td>2019-01-10 02:00:00</td>\n",
              "      <td>46.9</td>\n",
              "      <td>NaN</td>\n",
              "      <td>74.0</td>\n",
              "      <td>30.14</td>\n",
              "      <td>10.0</td>\n",
              "      <td>Calm</td>\n",
              "      <td>NaN</td>\n",
              "      <td>NaN</td>\n",
              "      <td>Clear</td>\n",
              "      <td>False</td>\n",
              "      <td>False</td>\n",
              "      <td>False</td>\n",
              "      <td>False</td>\n",
              "      <td>False</td>\n",
              "      <td>False</td>\n",
              "      <td>False</td>\n",
              "      <td>False</td>\n",
              "      <td>False</td>\n",
              "      <td>False</td>\n",
              "      <td>False</td>\n",
              "      <td>False</td>\n",
              "      <td>False</td>\n",
              "      <td>Night</td>\n",
              "      <td>Night</td>\n",
              "      <td>Night</td>\n",
              "      <td>Night</td>\n",
              "    </tr>\n",
              "    <tr>\n",
              "      <th>2906607</th>\n",
              "      <td>A-2906608</td>\n",
              "      <td>2</td>\n",
              "      <td>2020-11-23 12:52:00</td>\n",
              "      <td>2020-11-24 00:47:37</td>\n",
              "      <td>25.702200</td>\n",
              "      <td>-80.335556</td>\n",
              "      <td>25.703040</td>\n",
              "      <td>-80.334099</td>\n",
              "      <td>0.108</td>\n",
              "      <td>Stationary traffic on County Hwy-913 - FL-986 ...</td>\n",
              "      <td>8798.0</td>\n",
              "      <td>SW 72nd St</td>\n",
              "      <td>L</td>\n",
              "      <td>Miami</td>\n",
              "      <td>Miami-Dade</td>\n",
              "      <td>FL</td>\n",
              "      <td>33173-3512</td>\n",
              "      <td>US</td>\n",
              "      <td>US/Eastern</td>\n",
              "      <td>KTMB</td>\n",
              "      <td>2020-11-23 12:53:00</td>\n",
              "      <td>76.0</td>\n",
              "      <td>76.0</td>\n",
              "      <td>85.0</td>\n",
              "      <td>30.00</td>\n",
              "      <td>10.0</td>\n",
              "      <td>NNW</td>\n",
              "      <td>16.0</td>\n",
              "      <td>0.0</td>\n",
              "      <td>Mostly Cloudy</td>\n",
              "      <td>False</td>\n",
              "      <td>False</td>\n",
              "      <td>False</td>\n",
              "      <td>False</td>\n",
              "      <td>False</td>\n",
              "      <td>False</td>\n",
              "      <td>False</td>\n",
              "      <td>False</td>\n",
              "      <td>False</td>\n",
              "      <td>False</td>\n",
              "      <td>False</td>\n",
              "      <td>False</td>\n",
              "      <td>False</td>\n",
              "      <td>Day</td>\n",
              "      <td>Day</td>\n",
              "      <td>Day</td>\n",
              "      <td>Day</td>\n",
              "    </tr>\n",
              "    <tr>\n",
              "      <th>2906608</th>\n",
              "      <td>A-2906609</td>\n",
              "      <td>2</td>\n",
              "      <td>2019-12-29 22:38:00</td>\n",
              "      <td>2019-12-29 23:38:00</td>\n",
              "      <td>40.660140</td>\n",
              "      <td>-111.952460</td>\n",
              "      <td>40.660140</td>\n",
              "      <td>-111.952460</td>\n",
              "      <td>0.000</td>\n",
              "      <td>At UT-266/4700/Exit 15 - Accident.</td>\n",
              "      <td>NaN</td>\n",
              "      <td>I-215 N</td>\n",
              "      <td>R</td>\n",
              "      <td>Salt Lake City</td>\n",
              "      <td>Salt Lake</td>\n",
              "      <td>UT</td>\n",
              "      <td>84129</td>\n",
              "      <td>US</td>\n",
              "      <td>US/Mountain</td>\n",
              "      <td>KU42</td>\n",
              "      <td>2019-12-29 22:54:00</td>\n",
              "      <td>27.0</td>\n",
              "      <td>19.0</td>\n",
              "      <td>81.0</td>\n",
              "      <td>25.81</td>\n",
              "      <td>10.0</td>\n",
              "      <td>SSE</td>\n",
              "      <td>8.0</td>\n",
              "      <td>0.0</td>\n",
              "      <td>Cloudy</td>\n",
              "      <td>False</td>\n",
              "      <td>False</td>\n",
              "      <td>False</td>\n",
              "      <td>False</td>\n",
              "      <td>False</td>\n",
              "      <td>False</td>\n",
              "      <td>False</td>\n",
              "      <td>False</td>\n",
              "      <td>False</td>\n",
              "      <td>False</td>\n",
              "      <td>False</td>\n",
              "      <td>False</td>\n",
              "      <td>False</td>\n",
              "      <td>Night</td>\n",
              "      <td>Night</td>\n",
              "      <td>Night</td>\n",
              "      <td>Night</td>\n",
              "    </tr>\n",
              "    <tr>\n",
              "      <th>2906609</th>\n",
              "      <td>A-2906610</td>\n",
              "      <td>2</td>\n",
              "      <td>2018-03-26 13:35:03</td>\n",
              "      <td>2018-03-26 14:39:00</td>\n",
              "      <td>38.831749</td>\n",
              "      <td>-104.748161</td>\n",
              "      <td>38.831749</td>\n",
              "      <td>-104.748161</td>\n",
              "      <td>0.000</td>\n",
              "      <td>Accident on Murray Blvd at Byron Dr.</td>\n",
              "      <td>NaN</td>\n",
              "      <td>Byron Dr</td>\n",
              "      <td>R</td>\n",
              "      <td>Colorado Springs</td>\n",
              "      <td>El Paso</td>\n",
              "      <td>CO</td>\n",
              "      <td>80916</td>\n",
              "      <td>US</td>\n",
              "      <td>US/Mountain</td>\n",
              "      <td>KCOS</td>\n",
              "      <td>2018-03-26 13:54:00</td>\n",
              "      <td>51.1</td>\n",
              "      <td>NaN</td>\n",
              "      <td>38.0</td>\n",
              "      <td>29.77</td>\n",
              "      <td>10.0</td>\n",
              "      <td>SE</td>\n",
              "      <td>13.8</td>\n",
              "      <td>NaN</td>\n",
              "      <td>Scattered Clouds</td>\n",
              "      <td>False</td>\n",
              "      <td>False</td>\n",
              "      <td>True</td>\n",
              "      <td>False</td>\n",
              "      <td>False</td>\n",
              "      <td>False</td>\n",
              "      <td>False</td>\n",
              "      <td>False</td>\n",
              "      <td>False</td>\n",
              "      <td>False</td>\n",
              "      <td>False</td>\n",
              "      <td>True</td>\n",
              "      <td>False</td>\n",
              "      <td>Day</td>\n",
              "      <td>Day</td>\n",
              "      <td>Day</td>\n",
              "      <td>Day</td>\n",
              "    </tr>\n",
              "  </tbody>\n",
              "</table>\n",
              "<p>2906610 rows × 47 columns</p>\n",
              "</div>"
            ],
            "text/plain": [
              "                ID  Severity  ... Nautical_Twilight Astronomical_Twilight\n",
              "0              A-1         2  ...               Day                   Day\n",
              "1              A-2         2  ...               Day                   Day\n",
              "2              A-3         2  ...             Night                 Night\n",
              "3              A-4         2  ...               Day                   Day\n",
              "4              A-5         3  ...               Day                   Day\n",
              "...            ...       ...  ...               ...                   ...\n",
              "2906605  A-2906606         2  ...               Day                   Day\n",
              "2906606  A-2906607         2  ...             Night                 Night\n",
              "2906607  A-2906608         2  ...               Day                   Day\n",
              "2906608  A-2906609         2  ...             Night                 Night\n",
              "2906609  A-2906610         2  ...               Day                   Day\n",
              "\n",
              "[2906610 rows x 47 columns]"
            ]
          },
          "metadata": {
            "tags": []
          },
          "execution_count": 51
        }
      ]
    },
    {
      "cell_type": "code",
      "metadata": {
        "colab": {
          "base_uri": "https://localhost:8080/"
        },
        "id": "9VCo2cA50iVP",
        "outputId": "9ca51e4f-8368-4234-b5d4-7dc18bd5a9e2"
      },
      "source": [
        "# checking the columns in our dataset\n",
        "df.columns"
      ],
      "execution_count": null,
      "outputs": [
        {
          "output_type": "execute_result",
          "data": {
            "text/plain": [
              "Index(['ID', 'Severity', 'Start_Time', 'End_Time', 'Start_Lat', 'Start_Lng',\n",
              "       'End_Lat', 'End_Lng', 'Distance(mi)', 'Description', 'Number', 'Street',\n",
              "       'Side', 'City', 'County', 'State', 'Zipcode', 'Country', 'Timezone',\n",
              "       'Airport_Code', 'Weather_Timestamp', 'Temperature(F)', 'Wind_Chill(F)',\n",
              "       'Humidity(%)', 'Pressure(in)', 'Visibility(mi)', 'Wind_Direction',\n",
              "       'Wind_Speed(mph)', 'Precipitation(in)', 'Weather_Condition', 'Amenity',\n",
              "       'Bump', 'Crossing', 'Give_Way', 'Junction', 'No_Exit', 'Railway',\n",
              "       'Roundabout', 'Station', 'Stop', 'Traffic_Calming', 'Traffic_Signal',\n",
              "       'Turning_Loop', 'Sunrise_Sunset', 'Civil_Twilight', 'Nautical_Twilight',\n",
              "       'Astronomical_Twilight'],\n",
              "      dtype='object')"
            ]
          },
          "metadata": {
            "tags": []
          },
          "execution_count": 52
        }
      ]
    },
    {
      "cell_type": "code",
      "metadata": {
        "colab": {
          "base_uri": "https://localhost:8080/"
        },
        "id": "SgfJNK4t03Ig",
        "outputId": "aa5c3004-1ef0-4318-8f12-ccd598fc7229"
      },
      "source": [
        "df.info()"
      ],
      "execution_count": null,
      "outputs": [
        {
          "output_type": "stream",
          "text": [
            "<class 'pandas.core.frame.DataFrame'>\n",
            "RangeIndex: 2906610 entries, 0 to 2906609\n",
            "Data columns (total 47 columns):\n",
            " #   Column                 Dtype  \n",
            "---  ------                 -----  \n",
            " 0   ID                     object \n",
            " 1   Severity               int64  \n",
            " 2   Start_Time             object \n",
            " 3   End_Time               object \n",
            " 4   Start_Lat              float64\n",
            " 5   Start_Lng              float64\n",
            " 6   End_Lat                float64\n",
            " 7   End_Lng                float64\n",
            " 8   Distance(mi)           float64\n",
            " 9   Description            object \n",
            " 10  Number                 float64\n",
            " 11  Street                 object \n",
            " 12  Side                   object \n",
            " 13  City                   object \n",
            " 14  County                 object \n",
            " 15  State                  object \n",
            " 16  Zipcode                object \n",
            " 17  Country                object \n",
            " 18  Timezone               object \n",
            " 19  Airport_Code           object \n",
            " 20  Weather_Timestamp      object \n",
            " 21  Temperature(F)         float64\n",
            " 22  Wind_Chill(F)          float64\n",
            " 23  Humidity(%)            float64\n",
            " 24  Pressure(in)           float64\n",
            " 25  Visibility(mi)         float64\n",
            " 26  Wind_Direction         object \n",
            " 27  Wind_Speed(mph)        float64\n",
            " 28  Precipitation(in)      float64\n",
            " 29  Weather_Condition      object \n",
            " 30  Amenity                bool   \n",
            " 31  Bump                   bool   \n",
            " 32  Crossing               bool   \n",
            " 33  Give_Way               bool   \n",
            " 34  Junction               bool   \n",
            " 35  No_Exit                bool   \n",
            " 36  Railway                bool   \n",
            " 37  Roundabout             bool   \n",
            " 38  Station                bool   \n",
            " 39  Stop                   bool   \n",
            " 40  Traffic_Calming        bool   \n",
            " 41  Traffic_Signal         bool   \n",
            " 42  Turning_Loop           bool   \n",
            " 43  Sunrise_Sunset         object \n",
            " 44  Civil_Twilight         object \n",
            " 45  Nautical_Twilight      object \n",
            " 46  Astronomical_Twilight  object \n",
            "dtypes: bool(13), float64(13), int64(1), object(20)\n",
            "memory usage: 790.0+ MB\n"
          ],
          "name": "stdout"
        }
      ]
    },
    {
      "cell_type": "code",
      "metadata": {
        "colab": {
          "base_uri": "https://localhost:8080/",
          "height": 304
        },
        "id": "ECF9JxGy05w0",
        "outputId": "fca611e7-8636-47ea-e4fd-f2b02706814b"
      },
      "source": [
        "df.describe()"
      ],
      "execution_count": null,
      "outputs": [
        {
          "output_type": "execute_result",
          "data": {
            "text/html": [
              "<div>\n",
              "<style scoped>\n",
              "    .dataframe tbody tr th:only-of-type {\n",
              "        vertical-align: middle;\n",
              "    }\n",
              "\n",
              "    .dataframe tbody tr th {\n",
              "        vertical-align: top;\n",
              "    }\n",
              "\n",
              "    .dataframe thead th {\n",
              "        text-align: right;\n",
              "    }\n",
              "</style>\n",
              "<table border=\"1\" class=\"dataframe\">\n",
              "  <thead>\n",
              "    <tr style=\"text-align: right;\">\n",
              "      <th></th>\n",
              "      <th>Severity</th>\n",
              "      <th>Start_Lat</th>\n",
              "      <th>Start_Lng</th>\n",
              "      <th>End_Lat</th>\n",
              "      <th>End_Lng</th>\n",
              "      <th>Distance(mi)</th>\n",
              "      <th>Number</th>\n",
              "      <th>Temperature(F)</th>\n",
              "      <th>Wind_Chill(F)</th>\n",
              "      <th>Humidity(%)</th>\n",
              "      <th>Pressure(in)</th>\n",
              "      <th>Visibility(mi)</th>\n",
              "      <th>Wind_Speed(mph)</th>\n",
              "      <th>Precipitation(in)</th>\n",
              "    </tr>\n",
              "  </thead>\n",
              "  <tbody>\n",
              "    <tr>\n",
              "      <th>count</th>\n",
              "      <td>2.906610e+06</td>\n",
              "      <td>2.906610e+06</td>\n",
              "      <td>2.906610e+06</td>\n",
              "      <td>2.623789e+06</td>\n",
              "      <td>2.623789e+06</td>\n",
              "      <td>2.906610e+06</td>\n",
              "      <td>1.014938e+06</td>\n",
              "      <td>2.839386e+06</td>\n",
              "      <td>1.722751e+06</td>\n",
              "      <td>2.835340e+06</td>\n",
              "      <td>2.849702e+06</td>\n",
              "      <td>2.834532e+06</td>\n",
              "      <td>2.599447e+06</td>\n",
              "      <td>1.605284e+06</td>\n",
              "    </tr>\n",
              "    <tr>\n",
              "      <th>mean</th>\n",
              "      <td>2.288649e+00</td>\n",
              "      <td>3.653027e+01</td>\n",
              "      <td>-9.642676e+01</td>\n",
              "      <td>3.651733e+01</td>\n",
              "      <td>-9.620367e+01</td>\n",
              "      <td>3.980541e-01</td>\n",
              "      <td>6.789728e+03</td>\n",
              "      <td>6.098873e+01</td>\n",
              "      <td>5.499048e+01</td>\n",
              "      <td>6.537758e+01</td>\n",
              "      <td>2.965685e+01</td>\n",
              "      <td>9.116766e+00</td>\n",
              "      <td>7.818111e+00</td>\n",
              "      <td>1.119459e-02</td>\n",
              "    </tr>\n",
              "    <tr>\n",
              "      <th>std</th>\n",
              "      <td>5.541618e-01</td>\n",
              "      <td>5.013964e+00</td>\n",
              "      <td>1.775412e+01</td>\n",
              "      <td>5.016609e+00</td>\n",
              "      <td>1.765971e+01</td>\n",
              "      <td>1.592556e+00</td>\n",
              "      <td>1.697225e+04</td>\n",
              "      <td>1.845258e+01</td>\n",
              "      <td>2.219542e+01</td>\n",
              "      <td>2.287854e+01</td>\n",
              "      <td>9.094133e-01</td>\n",
              "      <td>2.837271e+00</td>\n",
              "      <td>5.431171e+00</td>\n",
              "      <td>1.540812e-01</td>\n",
              "    </tr>\n",
              "    <tr>\n",
              "      <th>min</th>\n",
              "      <td>1.000000e+00</td>\n",
              "      <td>2.455527e+01</td>\n",
              "      <td>-1.246238e+02</td>\n",
              "      <td>2.455527e+01</td>\n",
              "      <td>-1.246238e+02</td>\n",
              "      <td>0.000000e+00</td>\n",
              "      <td>0.000000e+00</td>\n",
              "      <td>-8.900000e+01</td>\n",
              "      <td>-8.900000e+01</td>\n",
              "      <td>1.000000e+00</td>\n",
              "      <td>0.000000e+00</td>\n",
              "      <td>0.000000e+00</td>\n",
              "      <td>0.000000e+00</td>\n",
              "      <td>0.000000e+00</td>\n",
              "    </tr>\n",
              "    <tr>\n",
              "      <th>25%</th>\n",
              "      <td>2.000000e+00</td>\n",
              "      <td>3.366453e+01</td>\n",
              "      <td>-1.178232e+02</td>\n",
              "      <td>3.364659e+01</td>\n",
              "      <td>-1.177020e+02</td>\n",
              "      <td>0.000000e+00</td>\n",
              "      <td>9.650000e+02</td>\n",
              "      <td>4.890000e+01</td>\n",
              "      <td>3.900000e+01</td>\n",
              "      <td>4.900000e+01</td>\n",
              "      <td>2.959000e+01</td>\n",
              "      <td>1.000000e+01</td>\n",
              "      <td>4.600000e+00</td>\n",
              "      <td>0.000000e+00</td>\n",
              "    </tr>\n",
              "    <tr>\n",
              "      <th>50%</th>\n",
              "      <td>2.000000e+00</td>\n",
              "      <td>3.609977e+01</td>\n",
              "      <td>-9.116690e+01</td>\n",
              "      <td>3.605898e+01</td>\n",
              "      <td>-9.105163e+01</td>\n",
              "      <td>0.000000e+00</td>\n",
              "      <td>3.093000e+03</td>\n",
              "      <td>6.300000e+01</td>\n",
              "      <td>5.800000e+01</td>\n",
              "      <td>6.800000e+01</td>\n",
              "      <td>2.992000e+01</td>\n",
              "      <td>1.000000e+01</td>\n",
              "      <td>7.000000e+00</td>\n",
              "      <td>0.000000e+00</td>\n",
              "    </tr>\n",
              "    <tr>\n",
              "      <th>75%</th>\n",
              "      <td>3.000000e+00</td>\n",
              "      <td>4.037505e+01</td>\n",
              "      <td>-8.085814e+01</td>\n",
              "      <td>4.033133e+01</td>\n",
              "      <td>-8.084679e+01</td>\n",
              "      <td>2.790000e-01</td>\n",
              "      <td>7.976000e+03</td>\n",
              "      <td>7.500000e+01</td>\n",
              "      <td>7.200000e+01</td>\n",
              "      <td>8.500000e+01</td>\n",
              "      <td>3.007000e+01</td>\n",
              "      <td>1.000000e+01</td>\n",
              "      <td>1.040000e+01</td>\n",
              "      <td>0.000000e+00</td>\n",
              "    </tr>\n",
              "    <tr>\n",
              "      <th>max</th>\n",
              "      <td>4.000000e+00</td>\n",
              "      <td>4.900220e+01</td>\n",
              "      <td>-6.711317e+01</td>\n",
              "      <td>4.907500e+01</td>\n",
              "      <td>-6.710924e+01</td>\n",
              "      <td>3.336300e+02</td>\n",
              "      <td>9.999997e+06</td>\n",
              "      <td>2.030000e+02</td>\n",
              "      <td>1.740000e+02</td>\n",
              "      <td>1.000000e+02</td>\n",
              "      <td>5.804000e+01</td>\n",
              "      <td>1.400000e+02</td>\n",
              "      <td>9.840000e+02</td>\n",
              "      <td>2.400000e+01</td>\n",
              "    </tr>\n",
              "  </tbody>\n",
              "</table>\n",
              "</div>"
            ],
            "text/plain": [
              "           Severity     Start_Lat  ...  Wind_Speed(mph)  Precipitation(in)\n",
              "count  2.906610e+06  2.906610e+06  ...     2.599447e+06       1.605284e+06\n",
              "mean   2.288649e+00  3.653027e+01  ...     7.818111e+00       1.119459e-02\n",
              "std    5.541618e-01  5.013964e+00  ...     5.431171e+00       1.540812e-01\n",
              "min    1.000000e+00  2.455527e+01  ...     0.000000e+00       0.000000e+00\n",
              "25%    2.000000e+00  3.366453e+01  ...     4.600000e+00       0.000000e+00\n",
              "50%    2.000000e+00  3.609977e+01  ...     7.000000e+00       0.000000e+00\n",
              "75%    3.000000e+00  4.037505e+01  ...     1.040000e+01       0.000000e+00\n",
              "max    4.000000e+00  4.900220e+01  ...     9.840000e+02       2.400000e+01\n",
              "\n",
              "[8 rows x 14 columns]"
            ]
          },
          "metadata": {
            "tags": []
          },
          "execution_count": 54
        }
      ]
    },
    {
      "cell_type": "code",
      "metadata": {
        "colab": {
          "base_uri": "https://localhost:8080/"
        },
        "id": "_OUVCaIA4Ofv",
        "outputId": "b083cead-e9a3-4331-d59e-93c475cfe7f1"
      },
      "source": [
        "# To check how many numerical columns we have.\n",
        "numerics = ['int16', 'int32', 'int64', 'float16', 'float32', 'float64']\n",
        "\n",
        "numeric_df = df.select_dtypes(include=numerics)\n",
        "len(numeric_df.columns)"
      ],
      "execution_count": null,
      "outputs": [
        {
          "output_type": "execute_result",
          "data": {
            "text/plain": [
              "14"
            ]
          },
          "metadata": {
            "tags": []
          },
          "execution_count": 55
        }
      ]
    },
    {
      "cell_type": "code",
      "metadata": {
        "colab": {
          "base_uri": "https://localhost:8080/"
        },
        "id": "X3n1zhBm4_nI",
        "outputId": "f49de68a-e009-4a54-f8f1-be9d7d08b1e9"
      },
      "source": [
        "# counting missing values per columns\n",
        "\n",
        "missing_percentages = df.isna().sum().sort_values(ascending=False) / len(df)\n",
        "missing_percentages"
      ],
      "execution_count": null,
      "outputs": [
        {
          "output_type": "execute_result",
          "data": {
            "text/plain": [
              "Number                   0.650817\n",
              "Precipitation(in)        0.447713\n",
              "Wind_Chill(F)            0.407299\n",
              "Wind_Speed(mph)          0.105677\n",
              "End_Lat                  0.097303\n",
              "End_Lng                  0.097303\n",
              "Visibility(mi)           0.024798\n",
              "Weather_Condition        0.024720\n",
              "Humidity(%)              0.024520\n",
              "Temperature(F)           0.023128\n",
              "Wind_Direction           0.021838\n",
              "Pressure(in)             0.019579\n",
              "Weather_Timestamp        0.016141\n",
              "Airport_Code             0.002273\n",
              "Timezone                 0.001180\n",
              "Zipcode                  0.000383\n",
              "Nautical_Twilight        0.000038\n",
              "Astronomical_Twilight    0.000038\n",
              "Civil_Twilight           0.000038\n",
              "Sunrise_Sunset           0.000038\n",
              "City                     0.000037\n",
              "Amenity                  0.000000\n",
              "Severity                 0.000000\n",
              "Start_Time               0.000000\n",
              "End_Time                 0.000000\n",
              "Start_Lat                0.000000\n",
              "Start_Lng                0.000000\n",
              "Distance(mi)             0.000000\n",
              "Description              0.000000\n",
              "Turning_Loop             0.000000\n",
              "Street                   0.000000\n",
              "Side                     0.000000\n",
              "County                   0.000000\n",
              "Bump                     0.000000\n",
              "State                    0.000000\n",
              "Traffic_Signal           0.000000\n",
              "Country                  0.000000\n",
              "Traffic_Calming          0.000000\n",
              "Stop                     0.000000\n",
              "Station                  0.000000\n",
              "Roundabout               0.000000\n",
              "Railway                  0.000000\n",
              "No_Exit                  0.000000\n",
              "Junction                 0.000000\n",
              "Give_Way                 0.000000\n",
              "Crossing                 0.000000\n",
              "ID                       0.000000\n",
              "dtype: float64"
            ]
          },
          "metadata": {
            "tags": []
          },
          "execution_count": 56
        }
      ]
    },
    {
      "cell_type": "code",
      "metadata": {
        "id": "D8U-4q7P55QG",
        "colab": {
          "base_uri": "https://localhost:8080/",
          "height": 282
        },
        "outputId": "1c3347c2-cb42-4a18-cd24-4286bb160bbf"
      },
      "source": [
        "# Ploting columns where missing % is greater than 0.\n",
        "\n",
        "missing_percentages[missing_percentages > 0].plot(kind = 'barh')"
      ],
      "execution_count": null,
      "outputs": [
        {
          "output_type": "execute_result",
          "data": {
            "text/plain": [
              "<matplotlib.axes._subplots.AxesSubplot at 0x7fd46c92b910>"
            ]
          },
          "metadata": {
            "tags": []
          },
          "execution_count": 57
        },
        {
          "output_type": "display_data",
          "data": {
            "image/png": "[encoded data removed]",
            "text/plain": [
              "<Figure size 432x288 with 1 Axes>"
            ]
          },
          "metadata": {
            "tags": []
          }
        }
      ]
    },
    {
      "cell_type": "markdown",
      "metadata": {
        "id": "hQBTDx7ufyqG"
      },
      "source": [
        "## EDA\n",
        "\n",
        "Columns to be analyzed:\n",
        "1. City \n",
        "2. Start_Time"
      ]
    },
    {
      "cell_type": "code",
      "metadata": {
        "colab": {
          "base_uri": "https://localhost:8080/"
        },
        "id": "t4sHpqOJfxf0",
        "outputId": "31f9f288-720d-4600-90a7-8b281405e840"
      },
      "source": [
        "df.columns"
      ],
      "execution_count": null,
      "outputs": [
        {
          "output_type": "execute_result",
          "data": {
            "text/plain": [
              "Index(['ID', 'Severity', 'Start_Time', 'End_Time', 'Start_Lat', 'Start_Lng',\n",
              "       'End_Lat', 'End_Lng', 'Distance(mi)', 'Description', 'Number', 'Street',\n",
              "       'Side', 'City', 'County', 'State', 'Zipcode', 'Country', 'Timezone',\n",
              "       'Airport_Code', 'Weather_Timestamp', 'Temperature(F)', 'Wind_Chill(F)',\n",
              "       'Humidity(%)', 'Pressure(in)', 'Visibility(mi)', 'Wind_Direction',\n",
              "       'Wind_Speed(mph)', 'Precipitation(in)', 'Weather_Condition', 'Amenity',\n",
              "       'Bump', 'Crossing', 'Give_Way', 'Junction', 'No_Exit', 'Railway',\n",
              "       'Roundabout', 'Station', 'Stop', 'Traffic_Calming', 'Traffic_Signal',\n",
              "       'Turning_Loop', 'Sunrise_Sunset', 'Civil_Twilight', 'Nautical_Twilight',\n",
              "       'Astronomical_Twilight'],\n",
              "      dtype='object')"
            ]
          },
          "metadata": {
            "tags": []
          },
          "execution_count": 58
        }
      ]
    },
    {
      "cell_type": "markdown",
      "metadata": {
        "id": "41bCLVuGdHw-"
      },
      "source": [
        "## City"
      ]
    },
    {
      "cell_type": "code",
      "metadata": {
        "colab": {
          "base_uri": "https://localhost:8080/"
        },
        "id": "Frz2sc2mgFtM",
        "outputId": "d58d8e7c-7696-406f-8ee5-fc4a6328a764"
      },
      "source": [
        "cities = df.City.unique()\n",
        "\n",
        "len(cities)"
      ],
      "execution_count": null,
      "outputs": [
        {
          "output_type": "execute_result",
          "data": {
            "text/plain": [
              "11790"
            ]
          },
          "metadata": {
            "tags": []
          },
          "execution_count": 59
        }
      ]
    },
    {
      "cell_type": "code",
      "metadata": {
        "colab": {
          "base_uri": "https://localhost:8080/"
        },
        "id": "2D_v4FYYhEu-",
        "outputId": "b6e086c7-71be-4ea4-b942-6ff143ff8bb9"
      },
      "source": [
        "# Sorting the cities by number of accidents\n",
        "cities_by_accident = df.City.value_counts()\n",
        "cities_by_accident"
      ],
      "execution_count": null,
      "outputs": [
        {
          "output_type": "execute_result",
          "data": {
            "text/plain": [
              "Los Angeles    68411\n",
              "Houston        68265\n",
              "Charlotte      56176\n",
              "Miami          49965\n",
              "Dallas         48525\n",
              "               ...  \n",
              "Fort Shaw          1\n",
              "Mexia              1\n",
              "Fairway            1\n",
              "Ruthven            1\n",
              "Capulin            1\n",
              "Name: City, Length: 11789, dtype: int64"
            ]
          },
          "metadata": {
            "tags": []
          },
          "execution_count": 60
        }
      ]
    },
    {
      "cell_type": "code",
      "metadata": {
        "colab": {
          "base_uri": "https://localhost:8080/"
        },
        "id": "L2TxIPBRh-Sl",
        "outputId": "21a347cb-6f36-4399-c86d-06e72b7fbf2f"
      },
      "source": [
        "# Top 30 cities by accidents\n",
        "cities_by_accident[:30]"
      ],
      "execution_count": null,
      "outputs": [
        {
          "output_type": "execute_result",
          "data": {
            "text/plain": [
              "Los Angeles      68411\n",
              "Houston          68265\n",
              "Charlotte        56176\n",
              "Miami            49965\n",
              "Dallas           48525\n",
              "Austin           38808\n",
              "Raleigh          31355\n",
              "Atlanta          29244\n",
              "Sacramento       28984\n",
              "Orlando          28092\n",
              "Nashville        25277\n",
              "Baton Rouge      25080\n",
              "Minneapolis      22469\n",
              "San Diego        22329\n",
              "Phoenix          21370\n",
              "Oklahoma City    21292\n",
              "Portland         19432\n",
              "Richmond         18343\n",
              "Seattle          17384\n",
              "Saint Paul       17266\n",
              "San Jose         16744\n",
              "Chicago          16571\n",
              "Jacksonville     16210\n",
              "San Antonio      15751\n",
              "Denver           14272\n",
              "Indianapolis     13671\n",
              "Tucson           13526\n",
              "Columbia         13326\n",
              "Greenville       12925\n",
              "Riverside        12359\n",
              "Name: City, dtype: int64"
            ]
          },
          "metadata": {
            "tags": []
          },
          "execution_count": 61
        }
      ]
    },
    {
      "cell_type": "code",
      "metadata": {
        "colab": {
          "base_uri": "https://localhost:8080/",
          "height": 282
        },
        "id": "CbGLk8FwiPeu",
        "outputId": "c9d783f8-3aab-4e69-b535-646c61865443"
      },
      "source": [
        "# Plotting top 15 cities with most number of accidents\n",
        "cities_by_accident[:15].plot(kind = \"barh\")"
      ],
      "execution_count": null,
      "outputs": [
        {
          "output_type": "execute_result",
          "data": {
            "text/plain": [
              "<matplotlib.axes._subplots.AxesSubplot at 0x7fd42b5c3390>"
            ]
          },
          "metadata": {
            "tags": []
          },
          "execution_count": 62
        },
        {
          "output_type": "display_data",
          "data": {
            "image/png": "[encoded data removed]",
            "text/plain": [
              "<Figure size 432x288 with 1 Axes>"
            ]
          },
          "metadata": {
            "tags": []
          }
        }
      ]
    },
    {
      "cell_type": "code",
      "metadata": {
        "colab": {
          "base_uri": "https://localhost:8080/",
          "height": 350
        },
        "id": "ZYyFF1CNjEmA",
        "outputId": "3b0307bd-3ac5-4971-c226-c5225d2c9558"
      },
      "source": [
        "import seaborn as sns\n",
        "sns.set_style(\"darkgrid\")\n",
        "\n",
        "sns.distplot(cities_by_accident)"
      ],
      "execution_count": null,
      "outputs": [
        {
          "output_type": "stream",
          "text": [
            "/usr/local/lib/python3.7/dist-packages/seaborn/distributions.py:2557: FutureWarning: `distplot` is a deprecated function and will be removed in a future version. Please adapt your code to use either `displot` (a figure-level function with similar flexibility) or `histplot` (an axes-level function for histograms).\n",
            "  warnings.warn(msg, FutureWarning)\n"
          ],
          "name": "stderr"
        },
        {
          "output_type": "execute_result",
          "data": {
            "text/plain": [
              "<matplotlib.axes._subplots.AxesSubplot at 0x7fd42b5ba090>"
            ]
          },
          "metadata": {
            "tags": []
          },
          "execution_count": 63
        },
        {
          "output_type": "display_data",
          "data": {
            "image/png": "[encoded data removed]",
            "text/plain": [
              "<Figure size 432x288 with 1 Axes>"
            ]
          },
          "metadata": {
            "tags": []
          }
        }
      ]
    },
    {
      "cell_type": "code",
      "metadata": {
        "id": "m7-VuvHKkDTq"
      },
      "source": [
        "high_accident_cities = cities_by_accident[cities_by_accident > 1000]\n",
        "low_accident_cities = cities_by_accident[cities_by_accident < 1000]"
      ],
      "execution_count": null,
      "outputs": []
    },
    {
      "cell_type": "code",
      "metadata": {
        "colab": {
          "base_uri": "https://localhost:8080/"
        },
        "id": "WNZMSQHQk9Dh",
        "outputId": "acb2b739-517e-4abf-e3a9-bbf6acc8929d"
      },
      "source": [
        "# Number of high accident cities.\n",
        "len(high_accident_cities)"
      ],
      "execution_count": null,
      "outputs": [
        {
          "output_type": "execute_result",
          "data": {
            "text/plain": [
              "513"
            ]
          },
          "metadata": {
            "tags": []
          },
          "execution_count": 65
        }
      ]
    },
    {
      "cell_type": "code",
      "metadata": {
        "colab": {
          "base_uri": "https://localhost:8080/"
        },
        "id": "8tYWYXlhk-u-",
        "outputId": "9644225c-a5b6-4683-dd71-4e58d4886a39"
      },
      "source": [
        "# Percentage of cities with high number of accidents.\n",
        "(len(high_accident_cities)/len(cities_by_accident))*100"
      ],
      "execution_count": null,
      "outputs": [
        {
          "output_type": "execute_result",
          "data": {
            "text/plain": [
              "4.3515141233353125"
            ]
          },
          "metadata": {
            "tags": []
          },
          "execution_count": 66
        }
      ]
    },
    {
      "cell_type": "code",
      "metadata": {
        "colab": {
          "base_uri": "https://localhost:8080/"
        },
        "id": "oKgGMkvQGbUI",
        "outputId": "152fbf66-83dd-44b0-c00c-926487adfe15"
      },
      "source": [
        "# Number of cities reporting only 1 accident\n",
        "len(cities_by_accident[cities_by_accident == 1])"
      ],
      "execution_count": null,
      "outputs": [
        {
          "output_type": "execute_result",
          "data": {
            "text/plain": [
              "1306"
            ]
          },
          "metadata": {
            "tags": []
          },
          "execution_count": 67
        }
      ]
    },
    {
      "cell_type": "markdown",
      "metadata": {
        "id": "CAD0D51Zc_-M"
      },
      "source": [
        "# Start_Time"
      ]
    },
    {
      "cell_type": "code",
      "metadata": {
        "colab": {
          "base_uri": "https://localhost:8080/"
        },
        "id": "zS5cGe8rlcON",
        "outputId": "c8ce848b-b4b8-42ae-c5d1-c6432aaa02b0"
      },
      "source": [
        "df.Start_Time"
      ],
      "execution_count": null,
      "outputs": [
        {
          "output_type": "execute_result",
          "data": {
            "text/plain": [
              "0          2019-05-21 08:29:55\n",
              "1          2019-10-07 17:43:09\n",
              "2          2020-12-13 21:53:00\n",
              "3          2018-04-17 16:51:23\n",
              "4          2016-08-31 17:40:49\n",
              "                  ...         \n",
              "2906605    2018-06-28 08:49:01\n",
              "2906606    2019-01-10 02:01:01\n",
              "2906607    2020-11-23 12:52:00\n",
              "2906608    2019-12-29 22:38:00\n",
              "2906609    2018-03-26 13:35:03\n",
              "Name: Start_Time, Length: 2906610, dtype: object"
            ]
          },
          "metadata": {
            "tags": []
          },
          "execution_count": 68
        }
      ]
    },
    {
      "cell_type": "code",
      "metadata": {
        "id": "sVo3kOHuPMFI"
      },
      "source": [
        "# To cnvert argument to date-time format.\n",
        "\n",
        "df.Start_Time = pd.to_datetime(df.Start_Time)"
      ],
      "execution_count": null,
      "outputs": []
    },
    {
      "cell_type": "code",
      "metadata": {
        "colab": {
          "base_uri": "https://localhost:8080/"
        },
        "id": "FoX5lP-nPRyG",
        "outputId": "30358adc-2523-460b-bdf9-9746383a8a77"
      },
      "source": [
        "df.Start_Time[0]"
      ],
      "execution_count": null,
      "outputs": [
        {
          "output_type": "execute_result",
          "data": {
            "text/plain": [
              "Timestamp('2019-05-21 08:29:55')"
            ]
          },
          "metadata": {
            "tags": []
          },
          "execution_count": 70
        }
      ]
    },
    {
      "cell_type": "code",
      "metadata": {
        "id": "zegbXCRAWacn",
        "colab": {
          "base_uri": "https://localhost:8080/"
        },
        "outputId": "a39827cd-f772-40b0-f2d3-6c031a8a1f70"
      },
      "source": [
        "# To get hour from respective column\n",
        "\n",
        "df.Start_Time.dt.hour"
      ],
      "execution_count": null,
      "outputs": [
        {
          "output_type": "execute_result",
          "data": {
            "text/plain": [
              "0           8\n",
              "1          17\n",
              "2          21\n",
              "3          16\n",
              "4          17\n",
              "           ..\n",
              "2906605     8\n",
              "2906606     2\n",
              "2906607    12\n",
              "2906608    22\n",
              "2906609    13\n",
              "Name: Start_Time, Length: 2906610, dtype: int64"
            ]
          },
          "metadata": {
            "tags": []
          },
          "execution_count": 71
        }
      ]
    },
    {
      "cell_type": "code",
      "metadata": {
        "colab": {
          "base_uri": "https://localhost:8080/",
          "height": 350
        },
        "id": "stlAozaqMZ9e",
        "outputId": "9da0cb34-8b08-471b-f12e-918b06f9e064"
      },
      "source": [
        "sns.distplot(df.Start_Time.dt.hour, bins=24, kde=False, norm_hist = True)"
      ],
      "execution_count": null,
      "outputs": [
        {
          "output_type": "stream",
          "text": [
            "/usr/local/lib/python3.7/dist-packages/seaborn/distributions.py:2557: FutureWarning: `distplot` is a deprecated function and will be removed in a future version. Please adapt your code to use either `displot` (a figure-level function with similar flexibility) or `histplot` (an axes-level function for histograms).\n",
            "  warnings.warn(msg, FutureWarning)\n"
          ],
          "name": "stderr"
        },
        {
          "output_type": "execute_result",
          "data": {
            "text/plain": [
              "<matplotlib.axes._subplots.AxesSubplot at 0x7fd4850434d0>"
            ]
          },
          "metadata": {
            "tags": []
          },
          "execution_count": 72
        },
        {
          "output_type": "display_data",
          "data": {
            "image/png": "[encoded data removed]",
            "text/plain": [
              "<Figure size 432x288 with 1 Axes>"
            ]
          },
          "metadata": {
            "tags": []
          }
        }
      ]
    },
    {
      "cell_type": "code",
      "metadata": {
        "colab": {
          "base_uri": "https://localhost:8080/",
          "height": 350
        },
        "id": "L1_KNx8JM83D",
        "outputId": "226ec12f-70d5-4c6c-f5e5-d90a02b23eba"
      },
      "source": [
        "sns.distplot(df.Start_Time.dt.dayofweek, bins=7, kde=False, norm_hist = True)"
      ],
      "execution_count": null,
      "outputs": [
        {
          "output_type": "stream",
          "text": [
            "/usr/local/lib/python3.7/dist-packages/seaborn/distributions.py:2557: FutureWarning: `distplot` is a deprecated function and will be removed in a future version. Please adapt your code to use either `displot` (a figure-level function with similar flexibility) or `histplot` (an axes-level function for histograms).\n",
            "  warnings.warn(msg, FutureWarning)\n"
          ],
          "name": "stderr"
        },
        {
          "output_type": "execute_result",
          "data": {
            "text/plain": [
              "<matplotlib.axes._subplots.AxesSubplot at 0x7fd42b4bb5d0>"
            ]
          },
          "metadata": {
            "tags": []
          },
          "execution_count": 73
        },
        {
          "output_type": "display_data",
          "data": {
            "image/png": "[encoded data removed]",
            "text/plain": [
              "<Figure size 432x288 with 1 Axes>"
            ]
          },
          "metadata": {
            "tags": []
          }
        }
      ]
    },
    {
      "cell_type": "code",
      "metadata": {
        "colab": {
          "base_uri": "https://localhost:8080/",
          "height": 350
        },
        "id": "0JXjiiRnOTgA",
        "outputId": "4f06c1e8-c5c1-42e7-f9ea-3961738f366e"
      },
      "source": [
        "# PLotting the distribution for sunday.\n",
        "sundays_Start_Time = df.Start_Time[df.Start_Time.dt.dayofweek == 6]\n",
        "sns.distplot(sundays_Start_Time.dt.hour, bins=24, kde=False, norm_hist=True)"
      ],
      "execution_count": null,
      "outputs": [
        {
          "output_type": "stream",
          "text": [
            "/usr/local/lib/python3.7/dist-packages/seaborn/distributions.py:2557: FutureWarning: `distplot` is a deprecated function and will be removed in a future version. Please adapt your code to use either `displot` (a figure-level function with similar flexibility) or `histplot` (an axes-level function for histograms).\n",
            "  warnings.warn(msg, FutureWarning)\n"
          ],
          "name": "stderr"
        },
        {
          "output_type": "execute_result",
          "data": {
            "text/plain": [
              "<matplotlib.axes._subplots.AxesSubplot at 0x7fd42b3c6c90>"
            ]
          },
          "metadata": {
            "tags": []
          },
          "execution_count": 74
        },
        {
          "output_type": "display_data",
          "data": {
            "image/png": "[encoded data removed]",
            "text/plain": [
              "<Figure size 432x288 with 1 Axes>"
            ]
          },
          "metadata": {
            "tags": []
          }
        }
      ]
    },
    {
      "cell_type": "code",
      "metadata": {
        "colab": {
          "base_uri": "https://localhost:8080/",
          "height": 350
        },
        "id": "HCHhYeJcQj6C",
        "outputId": "b74927da-ee1f-42f6-8e26-21926fb8cd73"
      },
      "source": [
        "# PLotting the distribution for saturday.\n",
        "saturday_Start_Time = df.Start_Time[df.Start_Time.dt.dayofweek == 5]\n",
        "sns.distplot(saturday_Start_Time.dt.hour, bins=24, kde=False, norm_hist=True)"
      ],
      "execution_count": null,
      "outputs": [
        {
          "output_type": "stream",
          "text": [
            "/usr/local/lib/python3.7/dist-packages/seaborn/distributions.py:2557: FutureWarning: `distplot` is a deprecated function and will be removed in a future version. Please adapt your code to use either `displot` (a figure-level function with similar flexibility) or `histplot` (an axes-level function for histograms).\n",
            "  warnings.warn(msg, FutureWarning)\n"
          ],
          "name": "stderr"
        },
        {
          "output_type": "execute_result",
          "data": {
            "text/plain": [
              "<matplotlib.axes._subplots.AxesSubplot at 0x7fd42b365990>"
            ]
          },
          "metadata": {
            "tags": []
          },
          "execution_count": 75
        },
        {
          "output_type": "display_data",
          "data": {
            "image/png": "[encoded data removed]",
            "text/plain": [
              "<Figure size 432x288 with 1 Axes>"
            ]
          },
          "metadata": {
            "tags": []
          }
        }
      ]
    },
    {
      "cell_type": "code",
      "metadata": {
        "colab": {
          "base_uri": "https://localhost:8080/"
        },
        "id": "PoLG-G3GQyld",
        "outputId": "0a504e4d-9de7-4db0-9621-16ef98c75051"
      },
      "source": [
        "other_weekday = int(input(\"Enter the no. corresponding to want to compare data for:\\n mon = 0\\n tue = 1\\n wed = 2\\n thrus = 3\\n fri = 4\\n\"))"
      ],
      "execution_count": null,
      "outputs": [
        {
          "output_type": "stream",
          "text": [
            "Enter the no. corresponding to want to compare data for:\n",
            " mon = 0\n",
            " tue = 1\n",
            " wed = 2\n",
            " thrus = 3\n",
            " fri = 4\n",
            "3\n"
          ],
          "name": "stdout"
        }
      ]
    },
    {
      "cell_type": "code",
      "metadata": {
        "colab": {
          "base_uri": "https://localhost:8080/",
          "height": 350
        },
        "id": "VnWCFv98RD6S",
        "outputId": "b9d94a3e-5b74-42f5-8f7b-7160b28008a4"
      },
      "source": [
        "weekday = df.Start_Time[df.Start_Time.dt.dayofweek == other_weekday]\n",
        "sns.distplot(weekday.dt.hour, bins=24, kde=False, norm_hist=True)"
      ],
      "execution_count": null,
      "outputs": [
        {
          "output_type": "stream",
          "text": [
            "/usr/local/lib/python3.7/dist-packages/seaborn/distributions.py:2557: FutureWarning: `distplot` is a deprecated function and will be removed in a future version. Please adapt your code to use either `displot` (a figure-level function with similar flexibility) or `histplot` (an axes-level function for histograms).\n",
            "  warnings.warn(msg, FutureWarning)\n"
          ],
          "name": "stderr"
        },
        {
          "output_type": "execute_result",
          "data": {
            "text/plain": [
              "<matplotlib.axes._subplots.AxesSubplot at 0x7fd42b3c6a90>"
            ]
          },
          "metadata": {
            "tags": []
          },
          "execution_count": 77
        },
        {
          "output_type": "display_data",
          "data": {
            "image/png": "[encoded data removed]",
            "text/plain": [
              "<Figure size 432x288 with 1 Axes>"
            ]
          },
          "metadata": {
            "tags": []
          }
        }
      ]
    },
    {
      "cell_type": "code",
      "metadata": {
        "colab": {
          "base_uri": "https://localhost:8080/",
          "height": 350
        },
        "id": "zL12RkccRVIA",
        "outputId": "8bb2bcd4-28f4-4e0e-d5ee-be288bbe6cd7"
      },
      "source": [
        "# Plotting the variation monthwise\n",
        "monday_Start_Time = df.Start_Time[df.Start_Time.dt.dayofweek == 0]\n",
        "sns.distplot(monday_Start_Time.dt.month, bins=12, kde=False, norm_hist=True)"
      ],
      "execution_count": null,
      "outputs": [
        {
          "output_type": "stream",
          "text": [
            "/usr/local/lib/python3.7/dist-packages/seaborn/distributions.py:2557: FutureWarning: `distplot` is a deprecated function and will be removed in a future version. Please adapt your code to use either `displot` (a figure-level function with similar flexibility) or `histplot` (an axes-level function for histograms).\n",
            "  warnings.warn(msg, FutureWarning)\n"
          ],
          "name": "stderr"
        },
        {
          "output_type": "execute_result",
          "data": {
            "text/plain": [
              "<matplotlib.axes._subplots.AxesSubplot at 0x7fd42b232550>"
            ]
          },
          "metadata": {
            "tags": []
          },
          "execution_count": 78
        },
        {
          "output_type": "display_data",
          "data": {
            "image/png": "[encoded data removed]",
            "text/plain": [
              "<Figure size 432x288 with 1 Axes>"
            ]
          },
          "metadata": {
            "tags": []
          }
        }
      ]
    },
    {
      "cell_type": "markdown",
      "metadata": {
        "id": "hpg0V1A6b4r3"
      },
      "source": [
        "# Summary\n",
        "- Data for New York is missing.\n",
        "- 4.35 % of cities reported high number of accidents.\n",
        "- Around 1300 reported only 1 accident case.\n",
        "- Most of the accidents happened between 7-9 am & 4-6 pm.\n",
        "- On weekends the number of accidents are lower.\n",
        "- On Sunday, peak occurs between 10 am to 3 pm, unlike weekdays.\n",
        "- Reported accidents are higher in the months of Nov & Dec."
      ]
    }
  ]
}